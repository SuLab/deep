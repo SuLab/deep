{
 "cells": [
  {
   "cell_type": "markdown",
   "metadata": {},
   "source": [
    "# Testing the effects of varying corpus sizes on DeepDive performance\n",
    "\n",
    "*DeepDive v0.7.1 running on `kylo` -- 4 cores / 64GB RAM / tmp and database paths on 1TB HDD*\n",
    "\n",
    "PLOS full corpus size as downloaded from http://deepdive.stanford.edu/doc/opendata/: 123,668 documents\n",
    "\n",
    "**Testing:**\n",
    "* ***Run time***\n",
    "* ***RAM usage***\n",
    "        free -s 1 -t > \"test_ram_\"`date +%F_%H%M%S`\".out\"\n",
    "* ***Disk space usage***\n",
    "        FILENAME=\"test_disk_usage_\"`date +%F_%H%M%S`\".out\";\n",
    "        while true; do df >> $FILENAME 2> /dev/null; echo >> $FILENAME; sleep 1; done\n",
    "* ***Accuracy***\n",
    "    * best way to measure this?\n",
    "\n",
    "**with:**\n",
    "* full corpus (~123k)\n",
    "* 60k documents\n",
    "* 30k documents\n",
    "* 15k documents\n",
    "* 7k documents\n",
    "* 3k documents\n",
    "\n",
    "        kylo perf_tests> for i in `ls -d /disk/plos_*conll`; do echo $i; ls $i | wc -l; echo \"----\"; done\n",
    "        /disk/plos_15k_conll\n",
    "        15000\n",
    "        ----\n",
    "        /disk/plos_30k_conll\n",
    "        30000\n",
    "        ----\n",
    "        /disk/plos_3k_conll\n",
    "        3000\n",
    "        ----\n",
    "        /disk/plos_60k_conll\n",
    "        60000\n",
    "        ----\n",
    "        /disk/plos_7k_conll\n",
    "        7000\n",
    "        ----\n",
    "        /disk/plos_full_conll\n",
    "        123688\n",
    "        ----\n"
   ]
  },
  {
   "cell_type": "code",
   "execution_count": 1,
   "metadata": {
    "collapsed": true
   },
   "outputs": [],
   "source": [
    "%matplotlib inline\n",
    "\n",
    "import numpy as np\n",
    "import pandas as pd\n",
    "import matplotlib.pyplot as plt\n",
    "\n",
    "import seaborn\n",
    "seaborn.set()"
   ]
  },
  {
   "cell_type": "code",
   "execution_count": null,
   "metadata": {
    "collapsed": true
   },
   "outputs": [],
   "source": []
  }
 ],
 "metadata": {
  "kernelspec": {
   "display_name": "Python 3",
   "language": "python",
   "name": "python3"
  },
  "language_info": {
   "codemirror_mode": {
    "name": "ipython",
    "version": 3
   },
   "file_extension": ".py",
   "mimetype": "text/x-python",
   "name": "python",
   "nbconvert_exporter": "python",
   "pygments_lexer": "ipython3",
   "version": "3.5.1"
  }
 },
 "nbformat": 4,
 "nbformat_minor": 0
}
